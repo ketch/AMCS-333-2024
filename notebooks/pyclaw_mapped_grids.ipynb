{
 "cells": [
  {
   "cell_type": "code",
   "execution_count": null,
   "id": "90a89f33-9874-4f14-be47-f5d3b3afb91a",
   "metadata": {},
   "outputs": [],
   "source": [
    "import numpy as np\n",
    "import matplotlib.pyplot as plt\n",
    "from clawpack import pyclaw\n",
    "from ipywidgets import interact"
   ]
  },
  {
   "cell_type": "markdown",
   "id": "d4d702d1-c256-4c72-8a61-958c1a614da2",
   "metadata": {},
   "source": [
    "# Working with mapped grids in PyClaw"
   ]
  },
  {
   "cell_type": "markdown",
   "id": "9506e233-3995-4063-87ab-7d2fbf01c994",
   "metadata": {},
   "source": [
    "## Helpful resources\n",
    "\n",
    "The relevant concepts and ideas are explained in Chapter 23 of [LeVeque's book](https://www.clawpack.org/fvmhp_materials/).  This notebook is primarily focused on implementation details.\n",
    "\n",
    "- [Code and animations from 2008 SIAM Review article](https://faculty.washington.edu/rjl/pubs/circles/) -- uses Clawpack 4.x, not current version (and not PyClaw)\n",
    "- [Tutorial on geometry objects in PyClaw](https://github.com/clawpack/apps/blob/master/notebooks/pyclaw/pyclaw_geometry.ipynb)\n",
    "- The following PyClaw examples use mapped grids:\n",
    "    - `pyclaw/examples/acoustics_2d_mapped`\n",
    "    - `pyclaw/examples/advection_2d_annulus`\n",
    "    - `pyclaw/examples/shallow_sphere`\n",
    "- Riemann solvers that work on mapped grids (all are in `clawpack/riemann/src`):\n",
    "    - `rpn2_acoustics_mapped.f90`\n",
    "    - `rpn2_euler_mapgrid.f90`\n",
    "    - `rpn3_euler_mapgrid.f90`"
   ]
  },
  {
   "cell_type": "markdown",
   "id": "d878f4ea-00b2-4934-bac0-9cbd7b5efa6d",
   "metadata": {},
   "source": [
    "## Examples\n",
    "\n",
    "Here are a couple of examples of mapped grids (mapping to a circle) from the SIREV article mentioned above."
   ]
  },
  {
   "cell_type": "code",
   "execution_count": null,
   "id": "307a3b8c-a1b8-40a3-9e26-f30da10eab22",
   "metadata": {},
   "outputs": [],
   "source": [
    "xi  = pyclaw.Dimension(-1.,1.,30,name='xi')\n",
    "eta = pyclaw.Dimension(-1.,1.,30,name='eta')\n",
    "grid = pyclaw.geometry.Grid((xi,eta))"
   ]
  },
  {
   "cell_type": "code",
   "execution_count": null,
   "id": "50105e94-4928-40fd-bffb-249763dfc31e",
   "metadata": {},
   "outputs": [],
   "source": [
    "def square2circle(xi,eta,r1=1.0):\n",
    "    # radial projection mapping from Section 3.1\n",
    "    d = np.maximum(np.abs(xi),np.abs(eta))\n",
    "    r = np.sqrt(xi**2 + eta**2)\n",
    "    r = np.maximum(r, 1.e-10)\n",
    "    xp = r1 * d * xi/r\n",
    "    yp = r1 * d * eta/r\n",
    "    return [xp, yp]"
   ]
  },
  {
   "cell_type": "code",
   "execution_count": null,
   "id": "9507f54f-69c2-422a-9285-98b686359c07",
   "metadata": {},
   "outputs": [],
   "source": [
    "grid.mapc2p = square2circle\n",
    "grid.plot(num_ghost=1);"
   ]
  },
  {
   "cell_type": "code",
   "execution_count": null,
   "id": "02b8a245-8139-406a-838f-a240093ab53c",
   "metadata": {},
   "outputs": [],
   "source": [
    "def square2circle_smooth(xi,eta,r1=1.0):\n",
    "    # from Section 3.2\n",
    "    d = np.maximum(np.abs(xi),np.abs(eta))\n",
    "    d = np.maximum(d, 1e-10)\n",
    "\n",
    "    D = r1 * d/np.sqrt(2)\n",
    "    R = r1 * d\n",
    "    #R = r1 * np.ones_like(d)# * d\n",
    "\n",
    "    center = D - np.sqrt(R**2 - D**2)\n",
    "    xp = D/d * np.abs(xi)\n",
    "    yp = D/d * np.abs(eta)\n",
    "\n",
    "    ij = np.nonzero(np.abs(eta)>=np.abs(xi))\n",
    "    yp[ij] = center[ij] + np.sqrt(R[ij]**2 - xp[ij]**2)\n",
    "    ij = np.nonzero(np.abs(xi)>=np.abs(eta))\n",
    "    xp[ij] = center[ij] + np.sqrt(R[ij]**2 - yp[ij]**2)\n",
    "\n",
    "    xp = np.sign(xi) * xp\n",
    "    yp = np.sign(eta) * yp\n",
    "    \n",
    "    return [xp, yp]"
   ]
  },
  {
   "cell_type": "code",
   "execution_count": null,
   "id": "6652b5b1-a784-4897-a16f-6a33e2e7f3f7",
   "metadata": {},
   "outputs": [],
   "source": [
    "grid.mapc2p = square2circle_smooth\n",
    "grid.plot(num_ghost=1);"
   ]
  },
  {
   "cell_type": "markdown",
   "id": "20e31406-32a1-4768-aa1f-4e94e9ad43d4",
   "metadata": {},
   "source": [
    "# Extra steps required to set up a problem on a mapped grid\n",
    "\n",
    "Compared to setting up a problem on a uniform cartesian grid, a little extra work is required:\n",
    "\n",
    "1. Define the mapping function\n",
    "2. Compute geometry data and store in `aux`\n",
    "3. Define the Riemann solver to work on mapped grids\n",
    "4. Plot the data on a mapped grid\n",
    "\n",
    "Let's go through these steps, following the example in `pyclaw/examples/acoustics_2d_mapped`."
   ]
  },
  {
   "cell_type": "markdown",
   "id": "27d888d6-cf26-48d6-9e78-2445bf10740b",
   "metadata": {},
   "source": [
    "## Defining the mapping function"
   ]
  },
  {
   "cell_type": "markdown",
   "id": "25921500-d9ae-4e7d-9001-ffe113d71903",
   "metadata": {},
   "source": [
    "For this problem, the mapping involves two cylinders embedded in a larger region.  The mapping function is defined in\n",
    "`pyclaw/examples/acoustics_2d_mapped/acoustics_2d_inclusions.py`, in the function `inclusion_mapping()`.  This function is not used directly by the simulation code, but will be used to compute the required geometric data and for plotting.  It takes the reference, or computational, coordinates as input and returns the physical coordinates."
   ]
  },
  {
   "cell_type": "markdown",
   "id": "d337f934-94fc-4c75-be07-adb5402bdbe0",
   "metadata": {},
   "source": [
    "## Computing and storing geometry data\n",
    "\n",
    "The quantities required in the code are:\n",
    " - The normal vector to each face\n",
    " - The ratio of each edge length to the reference edge length\n",
    " - The ratio of each cell area or volume to the reference cell area or volume\n",
    "\n",
    "These quantities are computed in `pyclaw/examples/acoustics_2d_mapped/acoustics_2d_inclusions.py` in the function `compute_geometry()`."
   ]
  },
  {
   "cell_type": "markdown",
   "id": "f91706b6-ea5d-4769-9970-b570ea235714",
   "metadata": {},
   "source": [
    "By convention, the geometry data is stored in the following way in 2D:\n",
    "\n",
    "```\n",
    "    state.aux[0,:,:] = a_x\n",
    "    state.aux[1,:,:] = a_y\n",
    "    state.aux[2,:,:] = length_left\n",
    "    state.aux[3,:,:] = b_x\n",
    "    state.aux[4,:,:] = b_y\n",
    "    state.aux[5,:,:] = length_bottom\n",
    "    state.aux[6,:,:] = area\n",
    "    state.index_capa = 6\n",
    "```\n",
    "\n",
    "Here $a_x, a_y, b_x, b_y$ are the components of the normal vector to the face at the left (or bottom) edge of each cell.  Meanwhile `length_left` and `length_bottom` are the side length ratios (for the left and bottom edges) of the physical grid to the reference grid."
   ]
  },
  {
   "cell_type": "markdown",
   "id": "504b3c49-c784-46a5-89a3-641b952e08c8",
   "metadata": {},
   "source": [
    "## Riemann solvers on mapped grids"
   ]
  },
  {
   "cell_type": "markdown",
   "id": "269f463b-3c61-496d-9b53-66ef6b1834de",
   "metadata": {},
   "source": [
    "It's a good idea to look at existing mapped-grid Riemann solvers in order to understand what must be done.\n",
    "There is a list of existing solvers in the resources section above.\n",
    "\n",
    "The main things that need to be kept in mind are:\n",
    "\n",
    "1. One needs to use the appropriate eigenvectors, corresponding in the linear case to those of the matrix $n^x A + n^y B$.  For many systems, this is equivalent to finding the normal and tangential velocity components, and then using the eigenvectors $A$ or $B$ to decompose the jump in $q$.\n",
    "2. The contribution from \n",
    "The approach used in those solvers is to locally rotate the data, solve the Riemann problem in the reference coordinates, and then rotate the data back.  This rotation only needs to be performed for data with a geometric meaning (usually this is a velocity vector).\n",
    "\n",
    "We will follow how this is done for 2D acoustics.  First, depending on whether we are solving a Riemann problem for an $x$ or $y$ face (in the reference grid), we retrieve the appropriate face normal vector and length ratio:\n",
    "\n",
    "```\n",
    "    if (ixy.eq.1) then\n",
    "        inx = 1\n",
    "        iny = 2\n",
    "        ilenrat = 3\n",
    "    else\n",
    "        inx = 4\n",
    "        iny = 5\n",
    "        ilenrat = 6\n",
    "    endif\n",
    "\n",
    "! Rotation matrix:\n",
    "!               [ alpha  beta ]\n",
    "!               [-beta  alpha ]\n",
    "\n",
    "! Determine normal velocity components at this edge:\n",
    "    do i=2-mbc,mx+mbc\n",
    "        alpha = auxl(inx,i)\n",
    "        beta  = auxl(iny,i)\n",
    "        unorl = alpha*ql(2,i) + beta*ql(3,i)\n",
    "        unorr = alpha*qr(2,i-1) + beta*qr(3,i-1)\n",
    "```"
   ]
  },
  {
   "cell_type": "markdown",
   "id": "a798cacf-b4b6-40fa-9f8f-314d0524daa4",
   "metadata": {},
   "source": [
    "The next section of the code is identical to the standard 2D acoustics Riemann solver, except that it uses the\n",
    "normal and tangential velocity components just computed:\n",
    "\n",
    "```\n",
    "        delta(1) = ql(1,i) - qr(1,i-1)\n",
    "        delta(2) = unorl - unorr\n",
    "\n",
    "        zi  = auxl(8,i)\n",
    "        zim = auxl(8,i-1)\n",
    "        ci  = auxl(9,i)\n",
    "        cim = auxl(9,i-1)\n",
    "\n",
    "        a1 = (-delta(1) + zi*delta(2)) / (zim + zi)\n",
    "        a2 =  (delta(1) + zim*delta(2)) / (zim + zi)\n",
    "```"
   ]
  },
  {
   "cell_type": "markdown",
   "id": "3c60d577-b161-46fa-b264-5fe9769f44cc",
   "metadata": {},
   "source": [
    "Finally, in the computation of the waves (and fluctuations), we need to use the eigenvectors of the matrix $n^x A + n^y B$,\n",
    "corresponding to the local tangential and orthogonal directions relative to the cell face:\n",
    "\n",
    "```\n",
    "        wave(1,1,i) = -a1*zim\n",
    "        wave(2,1,i) = a1 * alpha\n",
    "        wave(3,1,i) = a1 * beta\n",
    "        s(1,i) = -cim * auxl(ilenrat,i)\n",
    "\n",
    "        wave(1,2,i) = a2*zi\n",
    "        wave(2,2,i) = a2 * alpha\n",
    "        wave(3,2,i) = a2 * beta\n",
    "        s(2,i) = ci * auxl(ilenrat,i)\n",
    "```\n",
    "Notice that we also rescale the wave speeds based on the ratio of the edge length in the physical domain to that in the reference domain."
   ]
  },
  {
   "cell_type": "markdown",
   "id": "368216b2-acc9-4df9-b1f8-221573d0878e",
   "metadata": {},
   "source": [
    "Finally, note that the contributions to each cell average that are returned from the Riemann solver need to be rescaled\n",
    "by the cell area (or volume) ratio.  But this is handled automatically in the Clawpack code outside the Riemann solver, as long as the appropriate values have been set, as described above."
   ]
  },
  {
   "cell_type": "markdown",
   "id": "c5ebdc6e-5c87-46cb-aa2e-3fd0ce3c00c1",
   "metadata": {},
   "source": [
    "## Plotting data on a mapped grid"
   ]
  },
  {
   "cell_type": "markdown",
   "id": "57ccbd28-72b5-44b4-955b-1b22a1887504",
   "metadata": {},
   "source": [
    "The easiest approach to plotting solutions on a mapped grid is to use VisClaw.  In that case, you only need to let the `setplot` function know about your mapping:\n",
    "\n",
    "```\n",
    "def setplot(plotdata):\n",
    "    plotdata.mapc2p = my_mapping\n",
    "    ...\n",
    "```\n",
    "\n",
    "This is the approach used in the 2D acoustics example."
   ]
  }
 ],
 "metadata": {
  "kernelspec": {
   "display_name": "Python 3 (ipykernel)",
   "language": "python",
   "name": "python3"
  },
  "language_info": {
   "codemirror_mode": {
    "name": "ipython",
    "version": 3
   },
   "file_extension": ".py",
   "mimetype": "text/x-python",
   "name": "python",
   "nbconvert_exporter": "python",
   "pygments_lexer": "ipython3",
   "version": "3.11.4"
  }
 },
 "nbformat": 4,
 "nbformat_minor": 5
}
