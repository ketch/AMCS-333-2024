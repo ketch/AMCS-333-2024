{
 "cells": [
  {
   "cell_type": "code",
   "execution_count": null,
   "id": "85e38973-7275-4b2e-8673-12fcd72a5995",
   "metadata": {},
   "outputs": [],
   "source": [
    "%matplotlib inline\n",
    "from clawpack import pyclaw\n",
    "import numpy as np\n",
    "import matplotlib.pyplot as plt\n",
    "from numpy import sqrt, exp, cos"
   ]
  },
  {
   "cell_type": "markdown",
   "id": "f1f6ee92-2e90-4346-9100-f72b27e7bb30",
   "metadata": {},
   "source": [
    "PyClaw makes use of a small number of essential data structures, including\n",
    "\n",
    "- `Controller`\n",
    "- `Solution`\n",
    "- `State`\n",
    "- `Solver`\n",
    "- Geometric objects: `Domain`, `Grid`, `Dimension`, `Patch`\n",
    "\n",
    "The relationship between some of these objects is shown below.\n",
    "\n",
    "![image](./pyclaw_solution_structure.png)\n",
    "\n",
    "Typically, the Solution object itself belongs to a `Controller` object and is paired with a `Solver`, which\n",
    "is used to advance the solution in time:\n",
    "\n",
    "<img src=\"controller.png\" alt=\"drawing\" width=\"450\"/>\n",
    "\n",
    "As shown here, the `Controller` is also responsible for setting up the output from a simulation.\n",
    "\n",
    "In this notebook we describe in more detail the classes: `Solution`, `State`, `Solver`, and `Controller`.  The geometry\n",
    "objects are explained in a separate notebook"
   ]
  },
  {
   "cell_type": "markdown",
   "id": "cbdd737f-d115-4758-a0b1-9068df0960e4",
   "metadata": {},
   "source": [
    "# `Solver`"
   ]
  },
  {
   "cell_type": "markdown",
   "id": "99819fd3-2280-4392-a617-4bfa9a84eb9d",
   "metadata": {},
   "source": [
    "The `Solver` contains information about how a `Solution` should evolve in time, such as:\n",
    "\n",
    "- which basic discretization method to use (i.e. the Lax-Wendroff-LeVeque approach or method of lines)\n",
    "- which Riemann solver to use\n",
    "- limiters to use\n",
    "- time-stepping method"
   ]
  },
  {
   "cell_type": "markdown",
   "id": "b55e3a75-16dc-4490-82de-97c2d7a35e40",
   "metadata": {},
   "source": [
    "There are separate `Solver` subclasses depending on the number of spatial dimensions (1-3) and\n",
    "the choice of basic discretization.  Each `Solver` must be initialized with a Riemann solver as\n",
    "its only argument; the Riemann solver also defines the system of equtions to be solved.  Here we'll\n",
    "solve the 1D acoustics equations in a homogeneous medium."
   ]
  },
  {
   "cell_type": "code",
   "execution_count": null,
   "id": "22834c5a-d81b-42b6-bc5e-c70ddc1cf91a",
   "metadata": {},
   "outputs": [],
   "source": [
    "from clawpack import riemann\n",
    "riemann_solver = riemann.acoustics_1D\n",
    "solver = pyclaw.ClawSolver1D(riemann_solver)"
   ]
  },
  {
   "cell_type": "markdown",
   "id": "33c35b40-ea80-407c-8dac-cf7039e717ad",
   "metadata": {},
   "source": [
    "The `Solver` includes a large number of modifiable parameters, relating to the choice of numerical algorithm.\n",
    "For instance, one can set a target CFL number and a step-rejection threshold:"
   ]
  },
  {
   "cell_type": "code",
   "execution_count": null,
   "id": "e9f891b7-57d6-4bd3-8c6f-fbd10557aa8b",
   "metadata": {},
   "outputs": [],
   "source": [
    "print(solver.cfl_desired)\n",
    "print(solver.cfl_max)"
   ]
  },
  {
   "cell_type": "markdown",
   "id": "7487aa8e-d9ad-48de-ba11-f09066833683",
   "metadata": {},
   "source": [
    "Many Clawpack Riemann solvers require additional parameters to be set (coefficients of the PDE, properties of the\n",
    "grid mapping, etc.)  You can find any scalar parameters that must be set as follows:"
   ]
  },
  {
   "cell_type": "code",
   "execution_count": null,
   "id": "4ee79fd4-6ff0-4b3f-8638-7ef942dcd1d5",
   "metadata": {},
   "outputs": [],
   "source": [
    "for val in dir(riemann_solver.cparam):\n",
    "    if val[0] != '_':\n",
    "        print(val)"
   ]
  },
  {
   "cell_type": "markdown",
   "id": "5c02dc92-dcff-42ba-8368-1b230b232051",
   "metadata": {},
   "source": [
    "Because these values are associated with a particular `State`,  will need to set them later when working with the `State`.\n",
    "\n",
    "Finally, the `Solver` is responsible for the boundary conditions.  There are a few built-in boundary condition types in PyClaw:\n",
    "\n",
    "- periodic\n",
    "- reflecting (wall)\n",
    "- outflow (extrapolation)\n",
    "\n",
    "For other conditions, a custom boundary condition must be set."
   ]
  },
  {
   "cell_type": "code",
   "execution_count": null,
   "id": "906aac5f-bf4c-4221-9029-331977a0e8a8",
   "metadata": {},
   "outputs": [],
   "source": [
    "solver.bc_lower[0] = pyclaw.BC.periodic\n",
    "solver.bc_upper[0] = pyclaw.BC.periodic"
   ]
  },
  {
   "cell_type": "markdown",
   "id": "17c14c8f-2e5d-4124-922d-cbc82e253c06",
   "metadata": {},
   "source": [
    "# `State`"
   ]
  },
  {
   "cell_type": "markdown",
   "id": "3bc831bc-ab02-41de-af17-7ddb0683abd4",
   "metadata": {},
   "source": [
    "A `State` describes the values of a set of fields over some Domain.  It is usually initialized from a `Domain`\n",
    "and an integer `m` denoting the number of fields (i.e., the number of conserved quantities in the hyperbolic\n",
    "system of interest)."
   ]
  },
  {
   "cell_type": "code",
   "execution_count": null,
   "id": "a8c4f2a5-9e48-4d30-af40-5b4bce32d6af",
   "metadata": {},
   "outputs": [],
   "source": [
    "x = pyclaw.Dimension(0.0, 1.0, 100, name='x')\n",
    "domain = pyclaw.Domain(x)\n",
    "num_eqn = 2\n",
    "state = pyclaw.State(domain, num_eqn)"
   ]
  },
  {
   "cell_type": "markdown",
   "id": "efb0d451-eef4-405b-a8b3-00c1f1bc6b54",
   "metadata": {},
   "source": [
    "A `State` can also optionally hold:\n",
    "\n",
    "- A set of *auxiliary* fields (`state.aux`) that take values over the domain.  Usually these are spatially-varying coefficients of the PDE, or parameters related to a mapped grid\n",
    "- A set of scalar values (`state.problem_data`) stored as a Python dictionary.  These may be space-independent coefficients of the PDE, such as the force of gravity or the ratio of specific heats.\n",
    "\n",
    "Now we can set the physical parameters required by the Riemann solver, in `state.problem_data`:"
   ]
  },
  {
   "cell_type": "code",
   "execution_count": null,
   "id": "e9ddb19b-e5f2-47fb-8126-4c4b00a17474",
   "metadata": {},
   "outputs": [],
   "source": [
    "rho = 1.0   # Material density\n",
    "bulk = 1.0  # Material bulk modulus\n",
    "\n",
    "state.problem_data['rho'] = rho\n",
    "state.problem_data['bulk'] = bulk\n",
    "state.problem_data['zz'] = sqrt(rho*bulk)   # Impedance\n",
    "state.problem_data['cc'] = sqrt(bulk/rho)   # Sound speed"
   ]
  },
  {
   "cell_type": "markdown",
   "id": "83c7588c-ec2e-4d89-b1e1-54705f490950",
   "metadata": {},
   "source": [
    "How do we know what parameters need to be set, and what their names should be?  This is explained below in\n",
    "the section on the `Solver`."
   ]
  },
  {
   "cell_type": "code",
   "execution_count": null,
   "id": "719deeef-b45e-4aa1-9f36-6f77dcbcc278",
   "metadata": {},
   "outputs": [],
   "source": [
    "state.q.shape"
   ]
  },
  {
   "cell_type": "markdown",
   "id": "4ae224ca-68c9-4cc0-858c-d3f0b6f60ecb",
   "metadata": {},
   "source": [
    "It should be noted that `state.q` is created as just a pointer to memory, so its values should\n",
    "always be set to something meaningful before it is used."
   ]
  },
  {
   "cell_type": "code",
   "execution_count": null,
   "id": "3c772a75-3b7e-4c4a-b703-852187f403fd",
   "metadata": {},
   "outputs": [],
   "source": [
    "gamma = 0.; x0 = 0.75\n",
    "xc = domain.grid.x.centers\n",
    "\n",
    "state.q[0, :] = exp(-100 * (xc- x0)**2) * cos(gamma * (xc - x0))\n",
    "state.q[1, :] = 0.0"
   ]
  },
  {
   "cell_type": "markdown",
   "id": "d98f9daf-6086-4269-bfe7-9c247cee4ac1",
   "metadata": {},
   "source": [
    "# `Solution`"
   ]
  },
  {
   "cell_type": "markdown",
   "id": "9fe019fe-4d4c-4ac4-987f-a12b25de6d92",
   "metadata": {},
   "source": [
    "The `Solution` object describes some number of fields (usually conserved quantities like mass, momentum, etc.)\n",
    "that take values over a physical space.  The set of fields is defined by one or more `States` and the physical\n",
    "space is described by a `Domain`.  Thus, a `Solution` is typically initialized using a list of `States` (often just one) and a `Domain`.\n",
    "The list of states can also be replaced by just an integer `m`, in which case there will be a single `State` occupying the whole domain,\n",
    "with `m` fields."
   ]
  },
  {
   "cell_type": "code",
   "execution_count": null,
   "id": "f1bf630a-b22a-40a1-aec2-951af377d9bc",
   "metadata": {},
   "outputs": [],
   "source": [
    "sol = pyclaw.Solution(state, domain)"
   ]
  },
  {
   "cell_type": "code",
   "execution_count": null,
   "id": "55606e9f-be7b-4ddb-8060-290717a492ee",
   "metadata": {},
   "outputs": [],
   "source": [
    "print(sol.domain.grid)"
   ]
  },
  {
   "cell_type": "markdown",
   "id": "7eea89a6-cf55-4fdf-ac62-6b6593c5a51b",
   "metadata": {},
   "source": [
    "For convenience, if there is only one state then some properties of the state are accessible directly from\n",
    "the `Solution`:"
   ]
  },
  {
   "cell_type": "code",
   "execution_count": null,
   "id": "a69a2321-6d89-428d-823d-f590ce82f9f8",
   "metadata": {},
   "outputs": [],
   "source": [
    "sol.state.q.shape"
   ]
  },
  {
   "cell_type": "code",
   "execution_count": null,
   "id": "4a1c4c33-b254-4ca2-b91f-1d94f7d4d9c2",
   "metadata": {},
   "outputs": [],
   "source": [
    "sol.q.shape"
   ]
  },
  {
   "cell_type": "markdown",
   "id": "c69019d1-5302-4c8a-831b-15eea160b7b1",
   "metadata": {},
   "source": [
    "The `Solution` object is not only used to start a simulation, but is also the output data format used by\n",
    "Clawpack."
   ]
  },
  {
   "cell_type": "markdown",
   "id": "3c377430-b040-47dc-8650-1652944d7c1d",
   "metadata": {},
   "source": [
    "# `Controller`"
   ]
  },
  {
   "cell_type": "markdown",
   "id": "97316549-bed5-40fd-b509-fbc885ccc6d4",
   "metadata": {},
   "source": [
    "The `Controller` object is technically just a convenience but is virtually always used \n",
    "in practice to handle simulations.  It can be initialized without any arguments, but in\n",
    "order to function properly it requires a `Solution` and a `Solver`.  The `Controller` then\n",
    "handles the application of the `Solver` to the `Solution`, as well as output."
   ]
  },
  {
   "cell_type": "code",
   "execution_count": null,
   "id": "2798d120-2524-4750-a316-5313b6c6c092",
   "metadata": {},
   "outputs": [],
   "source": [
    "claw = pyclaw.Controller()\n",
    "claw.solution = sol\n",
    "claw.solver = solver"
   ]
  },
  {
   "cell_type": "code",
   "execution_count": null,
   "id": "ec7bac40-1972-4c96-9046-c486d8ff0fc5",
   "metadata": {},
   "outputs": [],
   "source": [
    "print(claw)"
   ]
  },
  {
   "cell_type": "markdown",
   "id": "d658bd70-ce22-4349-96d3-7dbe4de0a639",
   "metadata": {},
   "source": [
    "There are a large number of properties here, mostly related to output.  The most important are:\n",
    "\n",
    "- `outdir`: The directory where output files will be written\n",
    "- `keep_copy`: If true, output will be attached to the `Controller` at the end of the run as a list of `Solutions` in `claw.frames`\n",
    "- `num_output_times`: By default, output will be written at this number of evenly spaced times\n",
    "- `tfinal`: the time at which to end the simulation\n",
    "\n",
    "Setting `keep_copy = True` is very useful when working with relatively small simulations, since you avoid\n",
    "the need to read/write data from disk.  It is a very bad idea for large simulations, where you may run\n",
    "out of memory by trying to store so many snapshots of the solution at once."
   ]
  },
  {
   "cell_type": "code",
   "execution_count": null,
   "id": "71a3e5ae-2bdf-468f-97b2-3f840a0e3c5b",
   "metadata": {},
   "outputs": [],
   "source": [
    "claw.tfinal = 1.0\n",
    "claw.keep_copy = True\n",
    "claw.output_format = None  # This disables output to disk"
   ]
  },
  {
   "cell_type": "code",
   "execution_count": null,
   "id": "fa7b7d05-2252-49ac-82b4-6afd48cd8f02",
   "metadata": {},
   "outputs": [],
   "source": [
    "claw.run()"
   ]
  },
  {
   "cell_type": "markdown",
   "id": "0a3c6218-84f6-4faa-9d0f-aef49579a632",
   "metadata": {},
   "source": [
    "By default, we get a message on the screen each time an output is written.  We also get\n",
    "a dictionary of diagnostics (accessible via `claw.status`) telling us how many time steps\n",
    "were taken and how big they were."
   ]
  },
  {
   "cell_type": "markdown",
   "id": "281142d2-770c-40cd-925e-e120d1cbfc95",
   "metadata": {},
   "source": [
    "# Output"
   ]
  },
  {
   "cell_type": "markdown",
   "id": "55ab43b4-b750-481b-97f1-93a98ecab0fc",
   "metadata": {},
   "source": [
    "In this example we're working with output in memory, which is stored in `claw.frames`:"
   ]
  },
  {
   "cell_type": "code",
   "execution_count": null,
   "id": "96e51acd-b38c-4b9a-b5a6-647d9f7ee3a7",
   "metadata": {},
   "outputs": [],
   "source": [
    "len(claw.frames)"
   ]
  },
  {
   "cell_type": "markdown",
   "id": "dcd2af30-a595-44e6-b839-06d8cf581779",
   "metadata": {},
   "source": [
    "There are 11 output frames because we always get output at $t=0$ in addition to the number of requested outputs.\n",
    "\n",
    "Each `frame` is a `Solution` object, and the values of the PDE solution can be accessed via `frame.q`:"
   ]
  },
  {
   "cell_type": "code",
   "execution_count": null,
   "id": "3dc6e038-f799-47f3-871b-55e477163203",
   "metadata": {},
   "outputs": [],
   "source": [
    "plt.plot(xc,claw.frames[0].q[0,:]);"
   ]
  },
  {
   "cell_type": "markdown",
   "id": "54970465-6f73-4a6b-91df-55f986242592",
   "metadata": {},
   "source": [
    "It's very easy to set up an interactive plot where we can look through all the frames:"
   ]
  },
  {
   "cell_type": "code",
   "execution_count": null,
   "id": "15c45e48-575b-4479-b2d6-4da497f70a38",
   "metadata": {},
   "outputs": [],
   "source": [
    "from ipywidgets import interact\n",
    "\n",
    "def plot_frame(i=0):\n",
    "    plt.plot(xc,claw.frames[i].q[0,:]);\n",
    "\n",
    "interact(plot_frame,i=(0,10,1));"
   ]
  },
  {
   "cell_type": "markdown",
   "id": "0f4c4361-0aa9-4a78-8a8b-d44398a72463",
   "metadata": {},
   "source": [
    "Or we can get a little fancier:"
   ]
  },
  {
   "cell_type": "code",
   "execution_count": null,
   "id": "e92dc3c7-14d2-43d7-b78e-0157cc31a287",
   "metadata": {},
   "outputs": [],
   "source": [
    "pmax = max([np.max(claw.frames[i].q[0,:]) for i in range(11)])\n",
    "pmin = min([np.min(claw.frames[i].q[0,:]) for i in range(11)])\n",
    "dp = pmax - pmin\n",
    "\n",
    "umax = max([np.max(claw.frames[i].q[1,:]) for i in range(11)])\n",
    "umin = min([np.min(claw.frames[i].q[1,:]) for i in range(11)])\n",
    "du = umax - umin\n",
    "\n",
    "def plot_frame(i=0):\n",
    "    fig, axes = plt.subplots(2,1)\n",
    "    axes[0].set_xlim(0,1)\n",
    "    axes[1].set_xlim(0,1)\n",
    "    axes[0].set_ylim(pmin-dp/10,pmax+dp/10)\n",
    "    axes[1].set_ylim(umin-du/10,umax+du/10)\n",
    "    axes[0].plot(xc,claw.frames[i].q[0,:]);\n",
    "    axes[1].plot(xc,claw.frames[i].q[1,:]);\n",
    "\n",
    "interact(plot_frame,i=(0,10,1));"
   ]
  },
  {
   "cell_type": "code",
   "execution_count": null,
   "id": "cebe2cca-bea6-4a9b-ae94-6efc948f3fc6",
   "metadata": {},
   "outputs": [],
   "source": []
  }
 ],
 "metadata": {
  "kernelspec": {
   "display_name": "Python 3 (ipykernel)",
   "language": "python",
   "name": "python3"
  },
  "language_info": {
   "codemirror_mode": {
    "name": "ipython",
    "version": 3
   },
   "file_extension": ".py",
   "mimetype": "text/x-python",
   "name": "python",
   "nbconvert_exporter": "python",
   "pygments_lexer": "ipython3",
   "version": "3.11.4"
  }
 },
 "nbformat": 4,
 "nbformat_minor": 5
}
